{
 "cells": [
  {
   "cell_type": "code",
   "execution_count": 2,
   "metadata": {},
   "outputs": [],
   "source": [
    "import numpy as np\n",
    "import pandas as pd\n",
    "from keras.models import Sequential\n",
    "from keras.layers import Dense\n",
    "from keras.layers import LSTM\n",
    "from keras.preprocessing.sequence import TimeseriesGenerator"
   ]
  },
  {
   "cell_type": "markdown",
   "metadata": {},
   "source": [
    "# Resources\n",
    "\n",
    "1. Timeseries Generator examples: https://machinelearningmastery.com/how-to-use-the-timeseriesgenerator-for-time-series-forecasting-in-keras/\n",
    "\n",
    "2. LR Finder and Restarts: https://www.jeremyjordan.me/nn-learning-rate/"
   ]
  },
  {
   "cell_type": "markdown",
   "metadata": {},
   "source": [
    "### TS Generator\n",
    "generator = TimeseriesGenerator(inputs, outputs, ...)\n",
    "* length: The number of lag (previous) observations to use in the input portion of each sample (e.g. 3).\n",
    "* batch_size: The number of samples to return on each iteration (e.g. 32)\n",
    "\n",
    "#### fit_generator\n",
    "*  It also takes a steps_per_epoch argument that defines the number of samples to use in each epoch. This can be set to the length of the TimeseriesGenerator instance to use all samples in the generator. if batchsize is 1, can be set to steps_per_epoch=len(generator)\n",
    "* steps_per_epoch = data_set_size / batch_size\n",
    "\n",
    "Similarly, the generator can be used to evaluate a fit model by calling the **evaluate_generator()** function, and using a fit model to make predictions on new data with the **predict_generator()** function.\n",
    "\n",
    "A model fit with the data generator does not have to use the generator versions of the evaluate and predict functions. They can be used only if you wish to have the data generator prepare your data for the model."
   ]
  },
  {
   "cell_type": "markdown",
   "metadata": {},
   "source": [
    "### Multivariate Inputs and Dependent Series Example\n",
    "\n",
    "For this first pass, we're basically assuming only 1 sample. For example, this could be information about one stock or patient: the in_seqs are variables about the stock/patient, the out_seq is the thing we'd like to predict about that stock/patient at the *NEXT* time point.\n",
    "\n",
    "Next step here would be to join multiple samples together for learning."
   ]
  },
  {
   "cell_type": "code",
   "execution_count": 3,
   "metadata": {},
   "outputs": [],
   "source": [
    "# define dataset\n",
    "in_seq1 = np.array([10, 20, 30, 40, 50, 60, 70, 80, 90, 100])\n",
    "in_seq2 = np.array([15, 25, 35, 45, 55, 65, 75, 85, 95, 105])\n",
    "out_seq = np.array([25, 45, 65, 85, 105, 125, 145, 165, 185, 205])"
   ]
  },
  {
   "cell_type": "code",
   "execution_count": 4,
   "metadata": {},
   "outputs": [],
   "source": [
    "# reshape series from vector to proper array\n",
    "in_seq1 = in_seq1.reshape((len(in_seq1), 1))\n",
    "in_seq2 = in_seq2.reshape((len(in_seq2), 1))\n",
    "out_seq = out_seq.reshape((len(out_seq), 1))"
   ]
  },
  {
   "cell_type": "code",
   "execution_count": 5,
   "metadata": {},
   "outputs": [],
   "source": [
    "# horizontally stack columns so that we have [[t1_var1, t1_var2], [t2_var1, t2_var2]]\n",
    "dataset = np.hstack((in_seq1, in_seq2))"
   ]
  },
  {
   "cell_type": "code",
   "execution_count": 6,
   "metadata": {},
   "outputs": [
    {
     "data": {
      "text/plain": [
       "array([[ 10,  15],\n",
       "       [ 20,  25],\n",
       "       [ 30,  35],\n",
       "       [ 40,  45],\n",
       "       [ 50,  55],\n",
       "       [ 60,  65],\n",
       "       [ 70,  75],\n",
       "       [ 80,  85],\n",
       "       [ 90,  95],\n",
       "       [100, 105]])"
      ]
     },
     "execution_count": 6,
     "metadata": {},
     "output_type": "execute_result"
    }
   ],
   "source": [
    "dataset"
   ]
  },
  {
   "cell_type": "code",
   "execution_count": 7,
   "metadata": {},
   "outputs": [],
   "source": [
    "# define generator\n",
    "n_priors = 1\n",
    "generator = TimeseriesGenerator(dataset, out_seq, length=n_priors, batch_size=1)"
   ]
  },
  {
   "cell_type": "code",
   "execution_count": 8,
   "metadata": {},
   "outputs": [
    {
     "name": "stdout",
     "output_type": "stream",
     "text": [
      "[[[10. 15.]]] => [[45.]]\n",
      "[[[20. 25.]]] => [[65.]]\n",
      "[[[30. 35.]]] => [[85.]]\n",
      "[[[40. 45.]]] => [[105.]]\n",
      "[[[50. 55.]]] => [[125.]]\n",
      "[[[60. 65.]]] => [[145.]]\n",
      "[[[70. 75.]]] => [[165.]]\n",
      "[[[80. 85.]]] => [[185.]]\n",
      "[[[90. 95.]]] => [[205.]]\n"
     ]
    }
   ],
   "source": [
    "# print each sample\n",
    "# myd = [] #save data for each person, then stack(data_p1, data_p2)?\n",
    "for i in range(len(generator)):\n",
    "    x, y = generator[i]\n",
    "    print('%s => %s' % (x, y))\n",
    "    #myd.append(x)"
   ]
  },
  {
   "cell_type": "code",
   "execution_count": 25,
   "metadata": {},
   "outputs": [],
   "source": [
    "from keras import optimizers\n",
    "n_features = dataset.shape[1]\n",
    "optimizer = optimizers.SGD(lr=0.01, momentum=0.9, decay=0.0, nesterov=False)\n",
    "# define model\n",
    "model = Sequential()\n",
    "model.add(LSTM(100, activation='relu', input_shape=(n_priors, n_features)))\n",
    "model.add(Dense(1))\n",
    "model.compile(optimizer=optimizer, loss='mse')"
   ]
  },
  {
   "cell_type": "code",
   "execution_count": 18,
   "metadata": {},
   "outputs": [
    {
     "data": {
      "text/plain": [
       "<keras.callbacks.History at 0x7fbea139b588>"
      ]
     },
     "execution_count": 18,
     "metadata": {},
     "output_type": "execute_result"
    }
   ],
   "source": [
    "# fit model\n",
    "model.fit_generator(generator, steps_per_epoch=len(generator), epochs=500, verbose=0)"
   ]
  },
  {
   "cell_type": "code",
   "execution_count": 40,
   "metadata": {},
   "outputs": [
    {
     "name": "stdout",
     "output_type": "stream",
     "text": [
      "[[223.26486]]\n"
     ]
    }
   ],
   "source": [
    "# make a one step prediction out of sample\n",
    "x_input = np.array([[95], [105]]).reshape((1, n_priors, n_features))\n",
    "yhat = model.predict(x_input, verbose=0)\n",
    "print(yhat)"
   ]
  },
  {
   "cell_type": "code",
   "execution_count": null,
   "metadata": {},
   "outputs": [],
   "source": [
    "# try fit_evalulate and fit_predict"
   ]
  },
  {
   "cell_type": "code",
   "execution_count": null,
   "metadata": {},
   "outputs": [],
   "source": []
  },
  {
   "cell_type": "markdown",
   "metadata": {},
   "source": [
    "# LR Finder\n",
    "\n",
    "#### Usage\n",
    "        ```python\n",
    "            lr_finder = LRFinder(min_lr=1e-5, \n",
    "                                 max_lr=1e-2, \n",
    "                                 steps_per_epoch=np.ceil(epoch_size/batch_size), \n",
    "                                 epochs=3)\n",
    "            model.fit(X_train, Y_train, callbacks=[lr_finder])\n",
    "            \n",
    "            lr_finder.plot_loss()\n",
    "        ```\n",
    "    \n",
    "    # Arguments\n",
    "        min_lr: The lower bound of the learning rate range for the experiment.\n",
    "        max_lr: The upper bound of the learning rate range for the experiment.\n",
    "        steps_per_epoch: Number of mini-batches in the dataset. Calculated as `np.ceil(epoch_size/batch_size)`. \n",
    "        epochs: Number of epochs to run experiment. Usually between 2 and 4 epochs is sufficient. "
   ]
  },
  {
   "cell_type": "code",
   "execution_count": 19,
   "metadata": {},
   "outputs": [],
   "source": [
    "from findLR import LRFinder"
   ]
  },
  {
   "cell_type": "code",
   "execution_count": 29,
   "metadata": {},
   "outputs": [],
   "source": [
    "epoch_size = len(generator)\n",
    "batch_size=1\n",
    "lr_finder = LRFinder(min_lr=1e-5,\n",
    "                    max_lr=1e-2,\n",
    "                    steps_per_epoch=np.ceil(epoch_size/batch_size),\n",
    "                    epochs=3)"
   ]
  },
  {
   "cell_type": "code",
   "execution_count": 30,
   "metadata": {},
   "outputs": [
    {
     "name": "stdout",
     "output_type": "stream",
     "text": [
      "Epoch 1/1\n",
      "9/9 [==============================] - 0s 6ms/step - loss: 12043290.4375\n"
     ]
    },
    {
     "data": {
      "text/plain": [
       "<keras.callbacks.History at 0x7faa917290b8>"
      ]
     },
     "execution_count": 30,
     "metadata": {},
     "output_type": "execute_result"
    }
   ],
   "source": [
    "#model.fit(X_train, Y_train, callbacks=[lr_finder])\n",
    "model.fit_generator(generator, steps_per_epoch=len(generator), verbose=1,callbacks=[lr_finder] )"
   ]
  },
  {
   "cell_type": "code",
   "execution_count": 31,
   "metadata": {},
   "outputs": [
    {
     "data": {
      "image/png": "[encoded data removed]",
      "text/plain": [
       "<Figure size 432x288 with 1 Axes>"
      ]
     },
     "metadata": {},
     "output_type": "display_data"
    }
   ],
   "source": [
    "lr_finder.plot_loss()"
   ]
  },
  {
   "cell_type": "code",
   "execution_count": 32,
   "metadata": {},
   "outputs": [],
   "source": [
    "diab = pd.read_csv('diabetes.csv')"
   ]
  },
  {
   "cell_type": "code",
   "execution_count": 37,
   "metadata": {},
   "outputs": [
    {
     "data": {
      "text/html": [
       "<div>\n",
       "<style scoped>\n",
       "    .dataframe tbody tr th:only-of-type {\n",
       "        vertical-align: middle;\n",
       "    }\n",
       "\n",
       "    .dataframe tbody tr th {\n",
       "        vertical-align: top;\n",
       "    }\n",
       "\n",
       "    .dataframe thead th {\n",
       "        text-align: right;\n",
       "    }\n",
       "</style>\n",
       "<table border=\"1\" class=\"dataframe\">\n",
       "  <thead>\n",
       "    <tr style=\"text-align: right;\">\n",
       "      <th></th>\n",
       "      <th>Pregnancies</th>\n",
       "      <th>Glucose</th>\n",
       "      <th>BloodPressure</th>\n",
       "      <th>SkinThickness</th>\n",
       "      <th>Insulin</th>\n",
       "      <th>BMI</th>\n",
       "      <th>DiabetesPedigreeFunction</th>\n",
       "      <th>Age</th>\n",
       "      <th>Outcome</th>\n",
       "    </tr>\n",
       "  </thead>\n",
       "  <tbody>\n",
       "    <tr>\n",
       "      <th>0</th>\n",
       "      <td>6</td>\n",
       "      <td>148</td>\n",
       "      <td>72</td>\n",
       "      <td>35</td>\n",
       "      <td>0</td>\n",
       "      <td>33.6</td>\n",
       "      <td>0.627</td>\n",
       "      <td>50</td>\n",
       "      <td>1</td>\n",
       "    </tr>\n",
       "    <tr>\n",
       "      <th>1</th>\n",
       "      <td>1</td>\n",
       "      <td>85</td>\n",
       "      <td>66</td>\n",
       "      <td>29</td>\n",
       "      <td>0</td>\n",
       "      <td>26.6</td>\n",
       "      <td>0.351</td>\n",
       "      <td>31</td>\n",
       "      <td>0</td>\n",
       "    </tr>\n",
       "    <tr>\n",
       "      <th>2</th>\n",
       "      <td>8</td>\n",
       "      <td>183</td>\n",
       "      <td>64</td>\n",
       "      <td>0</td>\n",
       "      <td>0</td>\n",
       "      <td>23.3</td>\n",
       "      <td>0.672</td>\n",
       "      <td>32</td>\n",
       "      <td>1</td>\n",
       "    </tr>\n",
       "    <tr>\n",
       "      <th>3</th>\n",
       "      <td>1</td>\n",
       "      <td>89</td>\n",
       "      <td>66</td>\n",
       "      <td>23</td>\n",
       "      <td>94</td>\n",
       "      <td>28.1</td>\n",
       "      <td>0.167</td>\n",
       "      <td>21</td>\n",
       "      <td>0</td>\n",
       "    </tr>\n",
       "    <tr>\n",
       "      <th>4</th>\n",
       "      <td>0</td>\n",
       "      <td>137</td>\n",
       "      <td>40</td>\n",
       "      <td>35</td>\n",
       "      <td>168</td>\n",
       "      <td>43.1</td>\n",
       "      <td>2.288</td>\n",
       "      <td>33</td>\n",
       "      <td>1</td>\n",
       "    </tr>\n",
       "  </tbody>\n",
       "</table>\n",
       "</div>"
      ],
      "text/plain": [
       "   Pregnancies  Glucose  BloodPressure  SkinThickness  Insulin   BMI  \\\n",
       "0            6      148             72             35        0  33.6   \n",
       "1            1       85             66             29        0  26.6   \n",
       "2            8      183             64              0        0  23.3   \n",
       "3            1       89             66             23       94  28.1   \n",
       "4            0      137             40             35      168  43.1   \n",
       "\n",
       "   DiabetesPedigreeFunction  Age  Outcome  \n",
       "0                     0.627   50        1  \n",
       "1                     0.351   31        0  \n",
       "2                     0.672   32        1  \n",
       "3                     0.167   21        0  \n",
       "4                     2.288   33        1  "
      ]
     },
     "execution_count": 37,
     "metadata": {},
     "output_type": "execute_result"
    }
   ],
   "source": [
    "diab.head()"
   ]
  },
  {
   "cell_type": "code",
   "execution_count": 52,
   "metadata": {},
   "outputs": [
    {
     "data": {
      "text/plain": [
       "(array([[1.],\n",
       "        [0.],\n",
       "        [1.],\n",
       "        [0.],\n",
       "        [1.]]), 8)"
      ]
     },
     "execution_count": 52,
     "metadata": {},
     "output_type": "execute_result"
    }
   ],
   "source": [
    "data = diab.values\n",
    "x_diab = data[:,:-1]\n",
    "y_diab = data[:,-1]\n",
    "y_diab = y_diab.reshape(y_diab.shape[0],1)\n",
    "y_diab[:5], x_diab.shape[1]"
   ]
  },
  {
   "cell_type": "code",
   "execution_count": 118,
   "metadata": {},
   "outputs": [],
   "source": [
    "model = Sequential()\n",
    "model.add(Dense(12, input_shape=(x_diab.shape[1],), activation='relu'))\n",
    "model.add(Dense(8, activation='relu'))\n",
    "model.add(Dense(1, activation='sigmoid'))"
   ]
  },
  {
   "cell_type": "code",
   "execution_count": 111,
   "metadata": {},
   "outputs": [],
   "source": [
    "epoch_size = x_diab.shape[1]\n",
    "batch_size=10\n",
    "lr_finder = LRFinder(min_lr=1e-5,\n",
    "                    max_lr=1e-2,\n",
    "                    steps_per_epoch=np.ceil(epoch_size/batch_size),\n",
    "                    epochs=3)"
   ]
  },
  {
   "cell_type": "code",
   "execution_count": 112,
   "metadata": {},
   "outputs": [
    {
     "name": "stdout",
     "output_type": "stream",
     "text": [
      "Train on 614 samples, validate on 154 samples\n",
      "Epoch 1/1\n",
      "614/614 [==============================] - 0s 219us/step - loss: 0.8916 - val_loss: 0.6786\n"
     ]
    },
    {
     "data": {
      "text/plain": [
       "<keras.callbacks.History at 0x7faa4048dc50>"
      ]
     },
     "execution_count": 112,
     "metadata": {},
     "output_type": "execute_result"
    }
   ],
   "source": [
    "model.fit(x_diab, y_diab, callbacks=[lr_finder], validation_split = 0.2)"
   ]
  },
  {
   "cell_type": "code",
   "execution_count": 113,
   "metadata": {},
   "outputs": [
    {
     "data": {
      "image/png": "[encoded data removed]",
      "text/plain": [
       "<Figure size 432x288 with 1 Axes>"
      ]
     },
     "metadata": {},
     "output_type": "display_data"
    }
   ],
   "source": [
    "lr_finder.plot_loss()"
   ]
  },
  {
   "cell_type": "code",
   "execution_count": 89,
   "metadata": {},
   "outputs": [
    {
     "data": {
      "text/plain": [
       "0.055"
      ]
     },
     "execution_count": 89,
     "metadata": {},
     "output_type": "execute_result"
    }
   ],
   "source": [
    "(10e-3 + 10e-2)/2"
   ]
  },
  {
   "cell_type": "code",
   "execution_count": 119,
   "metadata": {},
   "outputs": [],
   "source": [
    "lr = 0.055\n",
    "optimizer = optimizer = optimizers.SGD(lr=10e-4, momentum=0.0, decay=0.0, nesterov=False)\n",
    "model.compile(optimizer=optimizer, loss='binary_crossentropy')"
   ]
  },
  {
   "cell_type": "code",
   "execution_count": 120,
   "metadata": {},
   "outputs": [
    {
     "name": "stdout",
     "output_type": "stream",
     "text": [
      "Train on 614 samples, validate on 154 samples\n",
      "Epoch 1/20\n",
      "614/614 [==============================] - 1s 1ms/step - loss: 3.8187 - val_loss: 2.7890\n",
      "Epoch 2/20\n",
      "614/614 [==============================] - 0s 291us/step - loss: 3.2043 - val_loss: 2.7801\n",
      "Epoch 3/20\n",
      "614/614 [==============================] - 0s 281us/step - loss: 2.9816 - val_loss: 2.0885\n",
      "Epoch 4/20\n",
      "614/614 [==============================] - 0s 285us/step - loss: 1.8830 - val_loss: 0.7980\n",
      "Epoch 5/20\n",
      "614/614 [==============================] - 0s 290us/step - loss: 0.7785 - val_loss: 0.6834\n",
      "Epoch 6/20\n",
      "614/614 [==============================] - 0s 291us/step - loss: 0.7457 - val_loss: 0.6818\n",
      "Epoch 7/20\n",
      "614/614 [==============================] - 0s 288us/step - loss: 0.7409 - val_loss: 0.6803\n",
      "Epoch 8/20\n",
      "614/614 [==============================] - 0s 287us/step - loss: 0.7371 - val_loss: 0.6792\n",
      "Epoch 9/20\n",
      "614/614 [==============================] - 0s 290us/step - loss: 0.7335 - val_loss: 0.6784\n",
      "Epoch 10/20\n",
      "614/614 [==============================] - 0s 292us/step - loss: 0.7305 - val_loss: 0.6778\n",
      "Epoch 11/20\n",
      "614/614 [==============================] - 0s 290us/step - loss: 0.7282 - val_loss: 0.6769\n",
      "Epoch 12/20\n",
      "614/614 [==============================] - 0s 290us/step - loss: 0.7268 - val_loss: 0.6761\n",
      "Epoch 13/20\n",
      "614/614 [==============================] - 0s 291us/step - loss: 0.7255 - val_loss: 0.6755\n",
      "Epoch 14/20\n",
      "614/614 [==============================] - 0s 290us/step - loss: 0.7241 - val_loss: 0.6748\n",
      "Epoch 15/20\n",
      "614/614 [==============================] - 0s 291us/step - loss: 0.7229 - val_loss: 0.6740\n",
      "Epoch 16/20\n",
      "614/614 [==============================] - 0s 290us/step - loss: 0.7217 - val_loss: 0.6731\n",
      "Epoch 17/20\n",
      "614/614 [==============================] - 0s 292us/step - loss: 0.7207 - val_loss: 0.6722\n",
      "Epoch 18/20\n",
      "614/614 [==============================] - 0s 290us/step - loss: 0.7197 - val_loss: 0.6713\n",
      "Epoch 19/20\n",
      "614/614 [==============================] - 0s 291us/step - loss: 0.7187 - val_loss: 0.6704\n",
      "Epoch 20/20\n",
      "614/614 [==============================] - 0s 291us/step - loss: 0.7176 - val_loss: 0.6691\n"
     ]
    },
    {
     "data": {
      "text/plain": [
       "<keras.callbacks.History at 0x7faa32fb2ef0>"
      ]
     },
     "execution_count": 120,
     "metadata": {},
     "output_type": "execute_result"
    }
   ],
   "source": [
    "model.fit(x_diab, y_diab,epochs = 20, validation_split = 0.2,batch_size = batch_size)"
   ]
  },
  {
   "cell_type": "markdown",
   "metadata": {},
   "source": [
    "Something weird happens if lr_finder is used and then the model is recompiled and run. The model learns nothing. "
   ]
  },
  {
   "cell_type": "code",
   "execution_count": null,
   "metadata": {},
   "outputs": [],
   "source": []
  }
 ],
 "metadata": {
  "kernelspec": {
   "display_name": "Python 3",
   "language": "python",
   "name": "python3"
  },
  "language_info": {
   "codemirror_mode": {
    "name": "ipython",
    "version": 3
   },
   "file_extension": ".py",
   "mimetype": "text/x-python",
   "name": "python",
   "nbconvert_exporter": "python",
   "pygments_lexer": "ipython3",
   "version": "3.6.5"
  }
 },
 "nbformat": 4,
 "nbformat_minor": 2
}
