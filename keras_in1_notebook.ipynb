{
 "cells": [
  {
   "cell_type": "code",
   "execution_count": 15,
   "metadata": {},
   "outputs": [],
   "source": [
    "import pandas as pd\n",
    "import numpy as np\n",
    "\n",
    "from keras.models import Model, Sequential\n",
    "from keras.layers import Input, Flatten,Embedding, TimeDistributed, Dense, GRU, Conv1D, Dropout\n",
    "from keras.utils import to_categorical\n",
    "from keras.regularizers import l2\n",
    "\n",
    "import matplotlib.pyplot as plt\n",
    "plt.style.use('ggplot')\n",
    "import seaborn as sns\n",
    "\n",
    "from sklearn.model_selection import train_test_split\n",
    "from sklearn.metrics import accuracy_score, r2_score, roc_auc_score, classification_report"
   ]
  },
  {
   "cell_type": "markdown",
   "metadata": {},
   "source": [
    "Specifying input_shape\n",
    "\n",
    "input_shape, a tuple, always works\n",
    "\n",
    "Some 2D layers, such as dense, support input_dim and some 3D temporal layers support input_dim along with input_length.\n",
    "\n",
    "BUT input_shape always works\n",
    "\n",
    "### Input shapes by type\n",
    "\n",
    "**Dense:** input_shape=(number_of_features,)\n",
    "\n",
    "**Conv2D:** input_shape=(height,width,num_channels)\n",
    "\n",
    "**Embedding:** Embedding(vocab_size, output_dim=embed_size, input_length=max_seq_len)\n",
    "\n",
    "Time: \n",
    "- **RNN:** input_shape=(timesteps, number_of_features)\n",
    "- **Conv1D:** input_shape=(timesteps, number_of_features)\n",
    "- **timeDistributedDense**model.add(TimeDistributed(Dense(3),input_shape=(timesteps,features)))\n",
    "\n",
    "#### Uses\n",
    "* Embedding is generally the right input for dense-categorical input features (split them from the real numbers and concat later). It is also usually the right approach for 1D series of words (sequence classification or language models), though RNN and Conv1D can also be tried.\n",
    "* RNN, Conv1D, and TDD can all also be used for multivariable timeseries/longitudinal data. RNN and Conv1D run time-wise along each feature and concate the outputs of all. TDD acts as a timepoint embedding (applies the same dense transformation along the features at each timepoint). \n",
    "* Conv2D: images\n",
    "* Dense: real numbers"
   ]
  },
  {
   "cell_type": "markdown",
   "metadata": {},
   "source": [
    "### Final layer and compile\n",
    "\n",
    "#### Binary classification\n",
    "    model.add(Dense(1, activation='sigmoid'))\n",
    "    model.compile(loss='binary_crossentropy', optimizer=...)\n",
    "    On New data:\n",
    "    predicted = model.predict(X_test)\n",
    "\n",
    "#### categorical classification\n",
    "    model.add(Dense(10, activation='softmax'))\n",
    "    model.compile(loss='categorical_crossentropy', optimizer=...)\n",
    "    On New data:\n",
    "    predicted = model.predict(X_test)\n",
    "    predicted = np.argmax(predicted, axis=1)\n",
    "\n",
    "#### Regression\n",
    "    model.add(Dense(1))\n",
    "    model.compile(loss='mse',...)"
   ]
  },
  {
   "cell_type": "markdown",
   "metadata": {},
   "source": [
    "### Generate dummy data"
   ]
  },
  {
   "cell_type": "code",
   "execution_count": 8,
   "metadata": {},
   "outputs": [],
   "source": [
    "# BINARY classification\n",
    "# 1000 examples, each w/100 features\n",
    "x_train = np.random.random((1000, 100))\n",
    "# either 0 or 1. 1k examples. shape is (1k,1), not (1k,)\n",
    "y_train = np.random.randint(2, size=(1000,1))"
   ]
  },
  {
   "cell_type": "code",
   "execution_count": 9,
   "metadata": {},
   "outputs": [],
   "source": [
    "# CATEGORICAL\n",
    "# Convert labels to categorical one-hot encoding\n",
    "y_train = np.random.randint(10, size=(1000,1))\n",
    "one_hot_labels = keras.utils.to_categorical(y_train, num_classes=10)\n",
    "#\n",
    "x_test = np.random.random((100, 100))\n",
    "y_test = keras.utils.to_categorical(np.random.randint(10, size=(100, 1)), num_classes=10)"
   ]
  },
  {
   "cell_type": "code",
   "execution_count": 10,
   "metadata": {},
   "outputs": [],
   "source": [
    "# Sequnces\n",
    "# NOTE, for sequence classification, you want the categorical example above\n",
    "# this produces an array of len(num_classes) for the labels\n",
    "number_of_features = 16\n",
    "timesteps = 8\n",
    "num_classes = 10\n",
    "# Generate dummy training data\n",
    "x_train = np.random.random((1000, timesteps, number_of_features))\n",
    "y_train = np.random.random((1000, num_classes))"
   ]
  },
  {
   "cell_type": "code",
   "execution_count": 11,
   "metadata": {},
   "outputs": [],
   "source": [
    "# IMAGES\n",
    "# Generate dummy data\n",
    "x_train = np.random.random((100, 100, 100, 3))\n",
    "y_train = keras.utils.to_categorical(np.random.randint(10, size=(100, 1)), num_classes=10)\n",
    "x_test = np.random.random((20, 100, 100, 3))\n",
    "y_test = keras.utils.to_categorical(np.random.randint(10, size=(20, 1)), num_classes=10)"
   ]
  },
  {
   "cell_type": "markdown",
   "metadata": {},
   "source": [
    "### RNN behavior\n",
    "\n",
    "n_units for an RNN is the 1D vector size you would like to use to represent each timestep the sequence that you are modeling.\n",
    "\n",
    "The representation for each timestep is determined by 'looking at' the current step and considering the previous steps. So, the representation of the final step can be thought of as the representation of the entire sequence.\n",
    "\n",
    "If you're going to pass the output to another recurrent layer, you want to return the representation of each timestep. If you're going to pass the output to a Dense layer (for classification etc) then you only want to return the final representation.\n",
    "\n",
    "**Exception**:If you wanted to classify EACH timestep in a sequence, instead of labeling the whole sequence you'd want to return all of the representations:\n",
    "    \n",
    "    model.add(LSTM(32, return_sequences=True))\n",
    "    model.add(Dense(3, activation='softmax'))\n",
    "    Will assign 1 of 3 labels to each timestep in you sequence"
   ]
  },
  {
   "cell_type": "markdown",
   "metadata": {},
   "source": [
    "use return_sequences=T for every layer EXCEPT the last\n",
    "this is the representation of each timestep in the sequence\n",
    "    \n",
    "    model.add(LSTM(32, return_sequences=True))#returns a sequence of vectors of dimension 32\n",
    "\n",
    "use return_sequence=F to get only the output of the last timestept\n",
    "this is the representation of the entire sequence\n",
    "    \n",
    "    model.add(LSTM(32))  # return a single vector of dimension 32"
   ]
  },
  {
   "cell_type": "markdown",
   "metadata": {},
   "source": [
    "# Model play space"
   ]
  },
  {
   "cell_type": "code",
   "execution_count": 62,
   "metadata": {},
   "outputs": [
    {
     "name": "stdout",
     "output_type": "stream",
     "text": [
      "Train on 800 samples, validate on 200 samples\n",
      "Epoch 1/10\n",
      "800/800 [==============================] - 0s 591us/step - loss: 0.6991 - acc: 0.4975 - val_loss: 0.6998 - val_acc: 0.4650\n",
      "Epoch 2/10\n",
      "800/800 [==============================] - 0s 90us/step - loss: 0.6941 - acc: 0.5062 - val_loss: 0.6994 - val_acc: 0.4550\n",
      "Epoch 3/10\n",
      "800/800 [==============================] - 0s 96us/step - loss: 0.6934 - acc: 0.5087 - val_loss: 0.6995 - val_acc: 0.4550\n",
      "Epoch 4/10\n",
      "800/800 [==============================] - 0s 94us/step - loss: 0.6925 - acc: 0.5125 - val_loss: 0.6997 - val_acc: 0.4550\n",
      "Epoch 5/10\n",
      "800/800 [==============================] - 0s 91us/step - loss: 0.6923 - acc: 0.5225 - val_loss: 0.6998 - val_acc: 0.4450\n",
      "Epoch 6/10\n",
      "800/800 [==============================] - 0s 91us/step - loss: 0.6921 - acc: 0.5212 - val_loss: 0.6998 - val_acc: 0.4550\n",
      "Epoch 7/10\n",
      "800/800 [==============================] - 0s 91us/step - loss: 0.6918 - acc: 0.5262 - val_loss: 0.6997 - val_acc: 0.4600\n",
      "Epoch 8/10\n",
      "800/800 [==============================] - 0s 92us/step - loss: 0.6918 - acc: 0.5325 - val_loss: 0.6998 - val_acc: 0.4650\n",
      "Epoch 9/10\n",
      "800/800 [==============================] - 0s 93us/step - loss: 0.6917 - acc: 0.5237 - val_loss: 0.6999 - val_acc: 0.4600\n",
      "Epoch 10/10\n",
      "800/800 [==============================] - 0s 92us/step - loss: 0.6915 - acc: 0.5162 - val_loss: 0.6999 - val_acc: 0.4550\n"
     ]
    }
   ],
   "source": [
    "# data\n",
    "# BINARY classification\n",
    "# 1000 examples, each w/5 features\n",
    "x_train = np.random.random((1000, 5))\n",
    "# either 0 or 1. 1k examples. shape is (1k,1), not (1k,)\n",
    "y_train = np.random.randint(2, size=(1000,1))\n",
    "\n",
    "x_test = np.random.random((1000, 5))\n",
    "# either 0 or 1. 1k examples. shape is (1k,1), not (1k,)\n",
    "y_test = np.random.randint(2, size=(1000,1))\n",
    "\n",
    "\n",
    "# binary\n",
    "model = Sequential()\n",
    "model.add(Dense(32, activation='relu', input_shape=(5,)))\n",
    "model.add(Dense(1, activation='sigmoid'))\n",
    "model.compile(optimizer='rmsprop',\n",
    "              loss='binary_crossentropy',\n",
    "              metrics=['accuracy'])\n",
    "\n",
    "\n",
    "\n",
    "#multi-class\n",
    "# history = model.fit(x_train, y=keras.utils.to_categorical(y_train), epochs=10, batch_size=32,\n",
    "#                    validation_split = 0.2)\n",
    "#binary\n",
    "history = model.fit(x_train, y=y_train, epochs=10,\n",
    "                   validation_split = 0.2)"
   ]
  },
  {
   "cell_type": "code",
   "execution_count": 63,
   "metadata": {},
   "outputs": [
    {
     "data": {
      "image/png": "[encoded data removed]",
      "text/plain": [
       "<Figure size 432x288 with 1 Axes>"
      ]
     },
     "metadata": {},
     "output_type": "display_data"
    }
   ],
   "source": [
    "import pandas as pd\n",
    "import seaborn as sns\n",
    "import matplotlib.pyplot as plt\n",
    "from sklearn.model_selection import train_test_split\n",
    "from sklearn.metrics import accuracy_score\n",
    "plt.style.use('ggplot')\n",
    "%matplotlib inline\n",
    "\n",
    "df = pd.DataFrame({'epochs':history.epoch, 'train_loss': history.history['loss'], 'val_loss': history.history['val_loss']})\n",
    "g = sns.pointplot(x=\"epochs\", y=\"train_loss\", data=df, fit_reg=False)\n",
    "g = sns.pointplot(x=\"epochs\", y=\"val_loss\", data=df, fit_reg=False, color='green')"
   ]
  },
  {
   "cell_type": "markdown",
   "metadata": {},
   "source": [
    "## Examine Predictions vs Groundtruth"
   ]
  },
  {
   "cell_type": "code",
   "execution_count": 64,
   "metadata": {},
   "outputs": [],
   "source": [
    "predictions_outcomes = pd.DataFrame({'class_prediction':model.predict_classes(x_test).flatten(),'class_probability': model.predict(x_test).flatten(),'true_outcome':y_test.flatten()})"
   ]
  },
  {
   "cell_type": "code",
   "execution_count": 65,
   "metadata": {},
   "outputs": [],
   "source": [
    "data_po = pd.concat([pd.DataFrame(x_test),predictions_outcomes],axis=1)"
   ]
  },
  {
   "cell_type": "code",
   "execution_count": 66,
   "metadata": {},
   "outputs": [
    {
     "data": {
      "text/html": [
       "<div>\n",
       "<style scoped>\n",
       "    .dataframe tbody tr th:only-of-type {\n",
       "        vertical-align: middle;\n",
       "    }\n",
       "\n",
       "    .dataframe tbody tr th {\n",
       "        vertical-align: top;\n",
       "    }\n",
       "\n",
       "    .dataframe thead th {\n",
       "        text-align: right;\n",
       "    }\n",
       "</style>\n",
       "<table border=\"1\" class=\"dataframe\">\n",
       "  <thead>\n",
       "    <tr style=\"text-align: right;\">\n",
       "      <th></th>\n",
       "      <th>0</th>\n",
       "      <th>1</th>\n",
       "      <th>2</th>\n",
       "      <th>3</th>\n",
       "      <th>4</th>\n",
       "      <th>class_prediction</th>\n",
       "      <th>class_probability</th>\n",
       "      <th>true_outcome</th>\n",
       "    </tr>\n",
       "  </thead>\n",
       "  <tbody>\n",
       "    <tr>\n",
       "      <th>0</th>\n",
       "      <td>0.139846</td>\n",
       "      <td>0.685071</td>\n",
       "      <td>0.781852</td>\n",
       "      <td>0.972474</td>\n",
       "      <td>0.217400</td>\n",
       "      <td>0</td>\n",
       "      <td>0.462348</td>\n",
       "      <td>1</td>\n",
       "    </tr>\n",
       "    <tr>\n",
       "      <th>1</th>\n",
       "      <td>0.422222</td>\n",
       "      <td>0.288612</td>\n",
       "      <td>0.190180</td>\n",
       "      <td>0.124092</td>\n",
       "      <td>0.376085</td>\n",
       "      <td>0</td>\n",
       "      <td>0.489735</td>\n",
       "      <td>0</td>\n",
       "    </tr>\n",
       "    <tr>\n",
       "      <th>2</th>\n",
       "      <td>0.573151</td>\n",
       "      <td>0.615904</td>\n",
       "      <td>0.506474</td>\n",
       "      <td>0.114305</td>\n",
       "      <td>0.245147</td>\n",
       "      <td>0</td>\n",
       "      <td>0.468573</td>\n",
       "      <td>0</td>\n",
       "    </tr>\n",
       "    <tr>\n",
       "      <th>3</th>\n",
       "      <td>0.531386</td>\n",
       "      <td>0.881341</td>\n",
       "      <td>0.438206</td>\n",
       "      <td>0.166081</td>\n",
       "      <td>0.729551</td>\n",
       "      <td>0</td>\n",
       "      <td>0.467051</td>\n",
       "      <td>0</td>\n",
       "    </tr>\n",
       "    <tr>\n",
       "      <th>4</th>\n",
       "      <td>0.306965</td>\n",
       "      <td>0.962802</td>\n",
       "      <td>0.201672</td>\n",
       "      <td>0.311183</td>\n",
       "      <td>0.239848</td>\n",
       "      <td>0</td>\n",
       "      <td>0.457483</td>\n",
       "      <td>1</td>\n",
       "    </tr>\n",
       "  </tbody>\n",
       "</table>\n",
       "</div>"
      ],
      "text/plain": [
       "          0         1         2         3         4  class_prediction  \\\n",
       "0  0.139846  0.685071  0.781852  0.972474  0.217400                 0   \n",
       "1  0.422222  0.288612  0.190180  0.124092  0.376085                 0   \n",
       "2  0.573151  0.615904  0.506474  0.114305  0.245147                 0   \n",
       "3  0.531386  0.881341  0.438206  0.166081  0.729551                 0   \n",
       "4  0.306965  0.962802  0.201672  0.311183  0.239848                 0   \n",
       "\n",
       "   class_probability  true_outcome  \n",
       "0           0.462348             1  \n",
       "1           0.489735             0  \n",
       "2           0.468573             0  \n",
       "3           0.467051             0  \n",
       "4           0.457483             1  "
      ]
     },
     "execution_count": 66,
     "metadata": {},
     "output_type": "execute_result"
    }
   ],
   "source": [
    "data_po.head()"
   ]
  },
  {
   "cell_type": "markdown",
   "metadata": {},
   "source": [
    "# Quick and Dirty Architectures"
   ]
  },
  {
   "cell_type": "markdown",
   "metadata": {},
   "source": [
    "## Sequence Classification"
   ]
  },
  {
   "cell_type": "markdown",
   "metadata": {},
   "source": [
    "### Preprocessing\n",
    "\n",
    "Assuming that you have a dataframe as input with 2 columns: \n",
    "- Text: the words in the sequence\n",
    "- Label: the classification for the sequence\n",
    "\n",
    "Steps:\n",
    "- Instantiate Tokenizer\n",
    "- fit_on_texts\n",
    "- texts_to_sequences\n",
    "- pad_sequences"
   ]
  },
  {
   "cell_type": "code",
   "execution_count": 3,
   "metadata": {},
   "outputs": [],
   "source": [
    "#https://shrikar.com/deep-learning-with-keras-and-python-for-multiclass-classification/\n",
    "import pandas as pd\n",
    "data = pd.read_csv('stackoverflow/stackoverflow.csv')\n",
    "data.rename(columns={'post':'Text','tags':'Label'},inplace=True)"
   ]
  },
  {
   "cell_type": "code",
   "execution_count": 5,
   "metadata": {},
   "outputs": [
    {
     "data": {
      "image/png": "[encoded data removed]",
      "text/plain": [
       "<Figure size 432x288 with 1 Axes>"
      ]
     },
     "metadata": {},
     "output_type": "display_data"
    }
   ],
   "source": [
    "from keras.preprocessing.text import Tokenizer\n",
    "from keras.preprocessing.sequence import pad_sequences\n",
    "from sklearn.model_selection import train_test_split\n",
    "\n",
    "# Get a distribution of the number of words in each text\n",
    "data['num_words'] = data.Text.apply(lambda x : len(x.split()))\n",
    "data.num_words.hist()\n",
    "\n",
    "# assign bins\n",
    "data['bins'] = pd.cut(data.num_words, bins=[0,300,600,np.inf],labels=['0-300','300-600','600-inf'])\n",
    "# word_distribution = data.groupby('bins').size().reset_index().rename(columns={0:'counts'})\n",
    "# word_distribution.head()\n",
    "data.bins.value_counts()\n",
    "\n",
    "MAXLEN = 600\n",
    "# convert tags to labels\n",
    "num_class = data.tags.nunique()\n",
    "data['targets'] = data.tags.astype('category').cat.codes\n",
    "labels_OH = to_categorical(data.targets,num_classes=num_class)\n",
    "\n",
    "# tokenizer object\n",
    "tokenizer = Tokenizer()\n",
    "\n",
    "# fit tokenizer to text to create a dict\n",
    "tokenizer.fit_on_texts(data.post.values)\n",
    "vocab_size = len(tokenizer.word_index) + 1\n",
    "# assign new object using texts_to_sequences\n",
    "seqs = tokenizer.texts_to_sequences(data.post.values)\n",
    "# pad sequences\n",
    "padded_seqs = pad_sequences(seqs, maxlen=MAXLEN)\n",
    "\n",
    "x_train,x_test,y_train,y_test = train_test_split(padded_seqs,data.targets,stratify=data.targets,random_state=42,test_size=0.2)\n"
   ]
  },
  {
   "cell_type": "markdown",
   "metadata": {},
   "source": [
    "### Model"
   ]
  },
  {
   "cell_type": "code",
   "execution_count": 7,
   "metadata": {},
   "outputs": [],
   "source": [
    "from keras.models import Sequential\n",
    "from keras.layers import Dense\n",
    "from keras.layers import LSTM, Conv1D, MaxPooling1D,Dropout\n",
    "from keras.layers.embeddings import Embedding\n",
    "\n",
    "embedding_vecor_length= 128\n",
    "\n",
    "model = Sequential()\n",
    "model.add(Embedding(vocab_size, embedding_vecor_length, input_length=MAX_LENGTH))\n",
    "model.add(Conv1D(filters=32, kernel_size=3, padding='same', activation='relu'))\n",
    "model.add(MaxPooling1D(pool_size=2))\n",
    "model.add(Dropout(0.2))\n",
    "model.add(LSTM(32))\n",
    "model.add(Dropout(0.2))\n",
    "model.add(Dense(32))\n",
    "model.add(Dense(num_class, activation='softmax'))"
   ]
  },
  {
   "cell_type": "code",
   "execution_count": 8,
   "metadata": {},
   "outputs": [],
   "source": [
    "model.compile(loss='categorical_crossentropy',optimizer='rmsprop',\n",
    "             metrics=['acc'])"
   ]
  },
  {
   "cell_type": "code",
   "execution_count": 9,
   "metadata": {},
   "outputs": [
    {
     "name": "stdout",
     "output_type": "stream",
     "text": [
      "Train on 5120 samples, validate on 1280 samples\n",
      "Epoch 1/5\n",
      "5120/5120 [==============================] - 70s 14ms/step - loss: 1.0085 - acc: 0.5145 - val_loss: 0.5921 - val_acc: 0.7016\n",
      "Epoch 2/5\n",
      "5120/5120 [==============================] - 68s 13ms/step - loss: 0.3547 - acc: 0.8641 - val_loss: 0.3183 - val_acc: 0.9008\n",
      "Epoch 3/5\n",
      "5120/5120 [==============================] - 68s 13ms/step - loss: 0.1414 - acc: 0.9615 - val_loss: 0.2324 - val_acc: 0.9273\n",
      "Epoch 4/5\n",
      "5120/5120 [==============================] - 68s 13ms/step - loss: 0.0759 - acc: 0.9803 - val_loss: 0.2670 - val_acc: 0.9352\n",
      "Epoch 5/5\n",
      "5120/5120 [==============================] - 68s 13ms/step - loss: 0.0545 - acc: 0.9865 - val_loss: 0.3146 - val_acc: 0.9313\n"
     ]
    }
   ],
   "source": [
    "history = model.fit(x_train,to_categorical(y_train,num_classes=num_class),validation_split=0.2,epochs=5)"
   ]
  },
  {
   "cell_type": "code",
   "execution_count": null,
   "metadata": {},
   "outputs": [],
   "source": [
    "probs = model.predict(x_test)\n",
    "probs = [i[np.argmax(i)] for i in probs]\n",
    "classes = model.predict_classes(x_test)\n",
    "c = data.Text.astype('category')\n",
    "d = dict(enumerate(c.cat.categories))\n",
    "d\n",
    "ff['category'] = ff['truth'].apply(lambda x: d[x])"
   ]
  },
  {
   "cell_type": "markdown",
   "metadata": {},
   "source": [
    "# Pre-trained Image Models\n",
    "\n",
    "This is fairly straight-forward, but code intensive. Checkout the following:\n",
    "\n",
    "- https://keras.io/applications/ : clear examples of transfer learning and fine-tuning\n",
    "- https://medium.com/@14prakash/transfer-learning-using-keras-d804b2e04ef8 : More detailed examples including loading new data and image augmentation, etc. Also contains suggestions for each of the 4 primary scenarios when considering how new data relates to the pre-trained model\n",
    "- See HERE fastai notebooks for some nice image scrapping examples. \n",
    "\n",
    "In general, I greatly prefer the fastai framework for building/training image models, since these are typically clearly defined problems."
   ]
  },
  {
   "cell_type": "markdown",
   "metadata": {},
   "source": [
    "# rec sys\n",
    "\n",
    "See notebook: rec_sys.ipynb for complete examples including visualizing the learned embedding space.\n",
    "\n",
    "For simple collaborative filtering, expect a dataframe w/3 columns: user_id, prod_id, rating where all are integers. \n",
    "\n",
    "1. Get num_users and num_products\n",
    "2. train,test split. Stratification doesn't make sense here so we skip it\n",
    "3. Input, Embed, Flatten for both legs: users,products\n",
    "4. prod = Dot(Axis=1, normalize=False) (or concate alternatively). Then add some dropout and dense layers following\n",
    "5. model = Model([productInput,userInput],prod)\n",
    "6. Compile/train\n",
    "7. Get predictions and maybe calc r2 in addition to mse\n",
    "8. Make recommendations: Feed in 1 user and ALL books: Then select the books that have the highest predicted rating for that specific user.\n",
    "\n",
    "Make recommendations\n",
    "\n",
    "    user_id = 1\n",
    "    user = np.array([user_id for i in range(len(book_list))])\n",
    "    predicted_ratings = model.predict([user,book_list]) \n",
    "    predicted_ratings = np.array([i[0] for i in predicted_ratings])\n",
    "    recommended_book_ids = (-predicted_ratings).argsort()\n",
    "    top_5 = recommended_book_ids[:5]\n",
    "    print(list(zip(top_5,predicted_ratings[top_5]))) # get the predicted rating for each rec"
   ]
  },
  {
   "cell_type": "markdown",
   "metadata": {},
   "source": [
    "# Longitudinal Modeling"
   ]
  },
  {
   "cell_type": "code",
   "execution_count": 3,
   "metadata": {},
   "outputs": [],
   "source": [
    "data = pd.read_csv(\"all_data_dense.csv\")"
   ]
  },
  {
   "cell_type": "code",
   "execution_count": 4,
   "metadata": {},
   "outputs": [
    {
     "data": {
      "text/html": [
       "<div>\n",
       "<style scoped>\n",
       "    .dataframe tbody tr th:only-of-type {\n",
       "        vertical-align: middle;\n",
       "    }\n",
       "\n",
       "    .dataframe tbody tr th {\n",
       "        vertical-align: top;\n",
       "    }\n",
       "\n",
       "    .dataframe thead th {\n",
       "        text-align: right;\n",
       "    }\n",
       "</style>\n",
       "<table border=\"1\" class=\"dataframe\">\n",
       "  <thead>\n",
       "    <tr style=\"text-align: right;\">\n",
       "      <th></th>\n",
       "      <th>case</th>\n",
       "      <th>timepoint</th>\n",
       "      <th>CDAI</th>\n",
       "      <th>CRP</th>\n",
       "      <th>ESR</th>\n",
       "      <th>dmard</th>\n",
       "      <th>steroid</th>\n",
       "    </tr>\n",
       "  </thead>\n",
       "  <tbody>\n",
       "    <tr>\n",
       "      <th>0</th>\n",
       "      <td>0</td>\n",
       "      <td>0</td>\n",
       "      <td>0.00</td>\n",
       "      <td>0.0</td>\n",
       "      <td>0.000000</td>\n",
       "      <td>noDMARD</td>\n",
       "      <td>noSteroid</td>\n",
       "    </tr>\n",
       "    <tr>\n",
       "      <th>1</th>\n",
       "      <td>0</td>\n",
       "      <td>1</td>\n",
       "      <td>0.00</td>\n",
       "      <td>0.0</td>\n",
       "      <td>0.000000</td>\n",
       "      <td>noDMARD</td>\n",
       "      <td>noSteroid</td>\n",
       "    </tr>\n",
       "    <tr>\n",
       "      <th>2</th>\n",
       "      <td>0</td>\n",
       "      <td>2</td>\n",
       "      <td>0.00</td>\n",
       "      <td>0.0</td>\n",
       "      <td>0.000000</td>\n",
       "      <td>noDMARD</td>\n",
       "      <td>noSteroid</td>\n",
       "    </tr>\n",
       "    <tr>\n",
       "      <th>3</th>\n",
       "      <td>0</td>\n",
       "      <td>3</td>\n",
       "      <td>0.08</td>\n",
       "      <td>0.0</td>\n",
       "      <td>0.100775</td>\n",
       "      <td>noDMARD</td>\n",
       "      <td>noSteroid</td>\n",
       "    </tr>\n",
       "    <tr>\n",
       "      <th>4</th>\n",
       "      <td>1</td>\n",
       "      <td>0</td>\n",
       "      <td>0.00</td>\n",
       "      <td>0.0</td>\n",
       "      <td>0.000000</td>\n",
       "      <td>noDMARD</td>\n",
       "      <td>noSteroid</td>\n",
       "    </tr>\n",
       "  </tbody>\n",
       "</table>\n",
       "</div>"
      ],
      "text/plain": [
       "   case  timepoint  CDAI  CRP       ESR    dmard    steroid\n",
       "0     0          0  0.00  0.0  0.000000  noDMARD  noSteroid\n",
       "1     0          1  0.00  0.0  0.000000  noDMARD  noSteroid\n",
       "2     0          2  0.00  0.0  0.000000  noDMARD  noSteroid\n",
       "3     0          3  0.08  0.0  0.100775  noDMARD  noSteroid\n",
       "4     1          0  0.00  0.0  0.000000  noDMARD  noSteroid"
      ]
     },
     "execution_count": 4,
     "metadata": {},
     "output_type": "execute_result"
    }
   ],
   "source": [
    "data.head()"
   ]
  },
  {
   "cell_type": "code",
   "execution_count": 5,
   "metadata": {},
   "outputs": [
    {
     "data": {
      "text/plain": [
       "(15, 8)"
      ]
     },
     "execution_count": 5,
     "metadata": {},
     "output_type": "execute_result"
    }
   ],
   "source": [
    "data.dmard.nunique(), data.steroid.nunique()"
   ]
  },
  {
   "cell_type": "code",
   "execution_count": 6,
   "metadata": {},
   "outputs": [
    {
     "data": {
      "text/plain": [
       "26"
      ]
     },
     "execution_count": 6,
     "metadata": {},
     "output_type": "execute_result"
    }
   ],
   "source": [
    "15+8+3"
   ]
  },
  {
   "cell_type": "code",
   "execution_count": 7,
   "metadata": {},
   "outputs": [],
   "source": [
    "data.set_index('case',inplace=True)\n",
    "# assumes data is already sorted by case and timepoint\n",
    "del data['timepoint']"
   ]
  },
  {
   "cell_type": "code",
   "execution_count": 8,
   "metadata": {},
   "outputs": [
    {
     "data": {
      "text/plain": [
       "(2312, 26)"
      ]
     },
     "execution_count": 8,
     "metadata": {},
     "output_type": "execute_result"
    }
   ],
   "source": [
    "data = pd.get_dummies(data, columns=['dmard','steroid'])\n",
    "data.shape"
   ]
  },
  {
   "cell_type": "code",
   "execution_count": 9,
   "metadata": {},
   "outputs": [
    {
     "data": {
      "text/plain": [
       "(578, 4, 26)"
      ]
     },
     "execution_count": 9,
     "metadata": {},
     "output_type": "execute_result"
    }
   ],
   "source": [
    "# convert to timeseries format for modeling\n",
    "\n",
    "# assumes data is already sorted by case and timepoint\n",
    "# groupby creates a dictionary\n",
    "# here we use the case/person/stock_ticker etc as the key, which we will then ignore\n",
    "# we convert the value for each person into a list [person[time1_var1, time1_var2, time1_varN],[time2_var1,... ,time2_varN]]\n",
    "# and finally stack all patients into an array\n",
    "ts = np.stack([vv for kk,vv in data.groupby('case')])\n",
    "ts.shape\n",
    "\n",
    "# to see the above easily, just run this pipeline w/o the get_dummies cell above and compare\n",
    "# data.head() to ts[0]"
   ]
  },
  {
   "cell_type": "code",
   "execution_count": 57,
   "metadata": {},
   "outputs": [
    {
     "data": {
      "text/plain": [
       "array([[0.0, 0.0, 0.0, 'noDMARD', 'noSteroid'],\n",
       "       [0.0, 0.0, 0.0, 'noDMARD', 'noSteroid'],\n",
       "       [0.0, 0.0, 0.0, 'noDMARD', 'noSteroid'],\n",
       "       [0.08, 0.0, 0.100775193798, 'noDMARD', 'noSteroid']], dtype=object)"
      ]
     },
     "execution_count": 57,
     "metadata": {},
     "output_type": "execute_result"
    }
   ],
   "source": [
    "# ts[0]"
   ]
  },
  {
   "cell_type": "code",
   "execution_count": 10,
   "metadata": {},
   "outputs": [
    {
     "data": {
      "text/html": [
       "<div>\n",
       "<style scoped>\n",
       "    .dataframe tbody tr th:only-of-type {\n",
       "        vertical-align: middle;\n",
       "    }\n",
       "\n",
       "    .dataframe tbody tr th {\n",
       "        vertical-align: top;\n",
       "    }\n",
       "\n",
       "    .dataframe thead th {\n",
       "        text-align: right;\n",
       "    }\n",
       "</style>\n",
       "<table border=\"1\" class=\"dataframe\">\n",
       "  <thead>\n",
       "    <tr style=\"text-align: right;\">\n",
       "      <th></th>\n",
       "      <th>label</th>\n",
       "    </tr>\n",
       "  </thead>\n",
       "  <tbody>\n",
       "    <tr>\n",
       "      <th>0</th>\n",
       "      <td>0</td>\n",
       "    </tr>\n",
       "    <tr>\n",
       "      <th>1</th>\n",
       "      <td>0</td>\n",
       "    </tr>\n",
       "    <tr>\n",
       "      <th>2</th>\n",
       "      <td>0</td>\n",
       "    </tr>\n",
       "    <tr>\n",
       "      <th>3</th>\n",
       "      <td>0</td>\n",
       "    </tr>\n",
       "    <tr>\n",
       "      <th>4</th>\n",
       "      <td>1</td>\n",
       "    </tr>\n",
       "  </tbody>\n",
       "</table>\n",
       "</div>"
      ],
      "text/plain": [
       "   label\n",
       "0      0\n",
       "1      0\n",
       "2      0\n",
       "3      0\n",
       "4      1"
      ]
     },
     "execution_count": 10,
     "metadata": {},
     "output_type": "execute_result"
    }
   ],
   "source": [
    "labels = pd.read_csv('all_set_label.csv')\n",
    "del labels['Unnamed: 0']\n",
    "# ingoring the group for now\n",
    "del labels['set']\n",
    "labels.head()"
   ]
  },
  {
   "cell_type": "code",
   "execution_count": 18,
   "metadata": {},
   "outputs": [],
   "source": [
    "timesteps,features = ts.shape[1],ts.shape[2]\n",
    "model = Sequential()\n",
    "model.add(TimeDistributed(Dense(4,activation='relu'),input_shape=(timesteps,features)))\n",
    "model.add(Dropout(0.2))\n",
    "model.add(GRU(32,recurrent_dropout = 0.3,activation='relu',\n",
    "              kernel_regularizer=l2(0.00674),\n",
    "              recurrent_regularizer=l2(0.00544)))\n",
    "\n",
    "model.add(Dropout(0.5))\n",
    "model.add(Dense(32,activation='relu',kernel_regularizer=l2(0.0005)))\n",
    "\n",
    "model.add(Dense(1, activation='sigmoid'))"
   ]
  },
  {
   "cell_type": "code",
   "execution_count": 21,
   "metadata": {},
   "outputs": [
    {
     "name": "stdout",
     "output_type": "stream",
     "text": [
      "Train on 462 samples, validate on 116 samples\n",
      "Epoch 1/50\n",
      "462/462 [==============================] - 4s 9ms/step - loss: 0.9244 - acc: 0.4286 - val_loss: 0.8918 - val_acc: 0.6207\n",
      "Epoch 2/50\n",
      "462/462 [==============================] - 0s 377us/step - loss: 0.8725 - acc: 0.5693 - val_loss: 0.8481 - val_acc: 0.6034\n",
      "Epoch 3/50\n",
      "462/462 [==============================] - 0s 379us/step - loss: 0.8323 - acc: 0.6039 - val_loss: 0.8131 - val_acc: 0.6034\n",
      "Epoch 4/50\n",
      "462/462 [==============================] - 0s 375us/step - loss: 0.7999 - acc: 0.6017 - val_loss: 0.7852 - val_acc: 0.6034\n",
      "Epoch 5/50\n",
      "462/462 [==============================] - 0s 376us/step - loss: 0.7749 - acc: 0.6017 - val_loss: 0.7618 - val_acc: 0.6034\n",
      "Epoch 6/50\n",
      "462/462 [==============================] - 0s 376us/step - loss: 0.7543 - acc: 0.6017 - val_loss: 0.7439 - val_acc: 0.6034\n",
      "Epoch 7/50\n",
      "462/462 [==============================] - 0s 381us/step - loss: 0.7375 - acc: 0.6017 - val_loss: 0.7290 - val_acc: 0.6034\n",
      "Epoch 8/50\n",
      "462/462 [==============================] - 0s 380us/step - loss: 0.7235 - acc: 0.6017 - val_loss: 0.7168 - val_acc: 0.6034\n",
      "Epoch 9/50\n",
      "462/462 [==============================] - 0s 374us/step - loss: 0.7148 - acc: 0.6017 - val_loss: 0.7072 - val_acc: 0.6034\n",
      "Epoch 10/50\n",
      "462/462 [==============================] - 0s 382us/step - loss: 0.7068 - acc: 0.6017 - val_loss: 0.6992 - val_acc: 0.6034\n",
      "Epoch 11/50\n",
      "462/462 [==============================] - 0s 381us/step - loss: 0.6979 - acc: 0.6017 - val_loss: 0.6928 - val_acc: 0.6034\n",
      "Epoch 12/50\n",
      "462/462 [==============================] - 0s 377us/step - loss: 0.6937 - acc: 0.6017 - val_loss: 0.6873 - val_acc: 0.6034\n",
      "Epoch 13/50\n",
      "462/462 [==============================] - 0s 381us/step - loss: 0.6866 - acc: 0.6017 - val_loss: 0.6821 - val_acc: 0.6034\n",
      "Epoch 14/50\n",
      "462/462 [==============================] - 0s 374us/step - loss: 0.6841 - acc: 0.6017 - val_loss: 0.6773 - val_acc: 0.6034\n",
      "Epoch 15/50\n",
      "462/462 [==============================] - 0s 381us/step - loss: 0.6758 - acc: 0.6061 - val_loss: 0.6714 - val_acc: 0.6034\n",
      "Epoch 16/50\n",
      "462/462 [==============================] - 0s 377us/step - loss: 0.6693 - acc: 0.6126 - val_loss: 0.6647 - val_acc: 0.6034\n",
      "Epoch 17/50\n",
      "462/462 [==============================] - 0s 380us/step - loss: 0.6644 - acc: 0.6190 - val_loss: 0.6574 - val_acc: 0.6034\n",
      "Epoch 18/50\n",
      "462/462 [==============================] - 0s 382us/step - loss: 0.6620 - acc: 0.6212 - val_loss: 0.6486 - val_acc: 0.6207\n",
      "Epoch 19/50\n",
      "462/462 [==============================] - 0s 377us/step - loss: 0.6569 - acc: 0.6342 - val_loss: 0.6393 - val_acc: 0.6121\n",
      "Epoch 20/50\n",
      "462/462 [==============================] - 0s 377us/step - loss: 0.6419 - acc: 0.6623 - val_loss: 0.6306 - val_acc: 0.6121\n",
      "Epoch 21/50\n",
      "462/462 [==============================] - 0s 382us/step - loss: 0.6534 - acc: 0.6342 - val_loss: 0.6219 - val_acc: 0.6379\n",
      "Epoch 22/50\n",
      "462/462 [==============================] - 0s 381us/step - loss: 0.6412 - acc: 0.6688 - val_loss: 0.6130 - val_acc: 0.6466\n",
      "Epoch 23/50\n",
      "462/462 [==============================] - 0s 380us/step - loss: 0.6487 - acc: 0.6450 - val_loss: 0.6074 - val_acc: 0.6466\n",
      "Epoch 24/50\n",
      "462/462 [==============================] - 0s 376us/step - loss: 0.6393 - acc: 0.6623 - val_loss: 0.5976 - val_acc: 0.6897\n",
      "Epoch 25/50\n",
      "462/462 [==============================] - 0s 375us/step - loss: 0.6379 - acc: 0.6775 - val_loss: 0.5903 - val_acc: 0.6983\n",
      "Epoch 26/50\n",
      "462/462 [==============================] - 0s 380us/step - loss: 0.6192 - acc: 0.6753 - val_loss: 0.5808 - val_acc: 0.7241\n",
      "Epoch 27/50\n",
      "462/462 [==============================] - 0s 378us/step - loss: 0.6111 - acc: 0.6861 - val_loss: 0.5682 - val_acc: 0.7500\n",
      "Epoch 28/50\n",
      "462/462 [==============================] - 0s 377us/step - loss: 0.6115 - acc: 0.6861 - val_loss: 0.5668 - val_acc: 0.7241\n",
      "Epoch 29/50\n",
      "462/462 [==============================] - 0s 379us/step - loss: 0.6036 - acc: 0.6818 - val_loss: 0.5557 - val_acc: 0.7672\n",
      "Epoch 30/50\n",
      "462/462 [==============================] - 0s 378us/step - loss: 0.5969 - acc: 0.7013 - val_loss: 0.5560 - val_acc: 0.7328\n",
      "Epoch 31/50\n",
      "462/462 [==============================] - 0s 374us/step - loss: 0.6217 - acc: 0.6797 - val_loss: 0.5480 - val_acc: 0.7586\n",
      "Epoch 32/50\n",
      "462/462 [==============================] - 0s 378us/step - loss: 0.6128 - acc: 0.6861 - val_loss: 0.5488 - val_acc: 0.7586\n",
      "Epoch 33/50\n",
      "462/462 [==============================] - 0s 378us/step - loss: 0.6122 - acc: 0.6775 - val_loss: 0.5442 - val_acc: 0.7672\n",
      "Epoch 34/50\n",
      "462/462 [==============================] - 0s 377us/step - loss: 0.6125 - acc: 0.6861 - val_loss: 0.5508 - val_acc: 0.7414\n",
      "Epoch 35/50\n",
      "462/462 [==============================] - 0s 376us/step - loss: 0.6105 - acc: 0.6948 - val_loss: 0.5393 - val_acc: 0.7672\n",
      "Epoch 36/50\n",
      "462/462 [==============================] - 0s 376us/step - loss: 0.5976 - acc: 0.7013 - val_loss: 0.5420 - val_acc: 0.7500\n",
      "Epoch 37/50\n",
      "462/462 [==============================] - 0s 377us/step - loss: 0.6093 - acc: 0.6818 - val_loss: 0.5375 - val_acc: 0.7672\n",
      "Epoch 38/50\n",
      "462/462 [==============================] - 0s 378us/step - loss: 0.5926 - acc: 0.7013 - val_loss: 0.5358 - val_acc: 0.7672\n",
      "Epoch 39/50\n",
      "462/462 [==============================] - 0s 375us/step - loss: 0.5857 - acc: 0.7078 - val_loss: 0.5337 - val_acc: 0.7586\n",
      "Epoch 40/50\n",
      "462/462 [==============================] - 0s 382us/step - loss: 0.6057 - acc: 0.6970 - val_loss: 0.5280 - val_acc: 0.7845\n",
      "Epoch 41/50\n",
      "462/462 [==============================] - 0s 377us/step - loss: 0.5932 - acc: 0.7056 - val_loss: 0.5338 - val_acc: 0.7414\n",
      "Epoch 42/50\n",
      "462/462 [==============================] - 0s 382us/step - loss: 0.5975 - acc: 0.7100 - val_loss: 0.5333 - val_acc: 0.7586\n",
      "Epoch 43/50\n",
      "462/462 [==============================] - 0s 380us/step - loss: 0.6022 - acc: 0.6905 - val_loss: 0.5313 - val_acc: 0.7759\n",
      "Epoch 44/50\n",
      "462/462 [==============================] - 0s 374us/step - loss: 0.5879 - acc: 0.7316 - val_loss: 0.5304 - val_acc: 0.7586\n",
      "Epoch 45/50\n",
      "462/462 [==============================] - 0s 383us/step - loss: 0.5915 - acc: 0.7100 - val_loss: 0.5289 - val_acc: 0.7672\n",
      "Epoch 46/50\n",
      "462/462 [==============================] - 0s 377us/step - loss: 0.6115 - acc: 0.6926 - val_loss: 0.5304 - val_acc: 0.7759\n",
      "Epoch 47/50\n",
      "462/462 [==============================] - 0s 374us/step - loss: 0.5916 - acc: 0.7013 - val_loss: 0.5332 - val_acc: 0.7500\n",
      "Epoch 48/50\n",
      "462/462 [==============================] - 0s 378us/step - loss: 0.5934 - acc: 0.7035 - val_loss: 0.5278 - val_acc: 0.7759\n",
      "Epoch 49/50\n",
      "462/462 [==============================] - 0s 377us/step - loss: 0.5852 - acc: 0.7165 - val_loss: 0.5275 - val_acc: 0.7672\n",
      "Epoch 50/50\n",
      "462/462 [==============================] - 0s 378us/step - loss: 0.5894 - acc: 0.7056 - val_loss: 0.5274 - val_acc: 0.7586\n"
     ]
    }
   ],
   "source": [
    "# Compile model\n",
    "model.compile(loss='binary_crossentropy', optimizer='adam', metrics=['acc'])\n",
    "history = model.fit(ts, labels,validation_split=0.2,epochs=50)"
   ]
  },
  {
   "cell_type": "code",
   "execution_count": null,
   "metadata": {},
   "outputs": [],
   "source": []
  }
 ],
 "metadata": {
  "kernelspec": {
   "display_name": "Python 3",
   "language": "python",
   "name": "python3"
  },
  "language_info": {
   "codemirror_mode": {
    "name": "ipython",
    "version": 3
   },
   "file_extension": ".py",
   "mimetype": "text/x-python",
   "name": "python",
   "nbconvert_exporter": "python",
   "pygments_lexer": "ipython3",
   "version": "3.6.5"
  }
 },
 "nbformat": 4,
 "nbformat_minor": 2
}
